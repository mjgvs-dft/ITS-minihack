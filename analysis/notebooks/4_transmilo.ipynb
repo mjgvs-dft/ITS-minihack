{
 "cells": [
  {
   "cell_type": "markdown",
   "metadata": {},
   "source": [
    "# Transmilo dataset more detailed\n",
    "\n",
    "coming from https://github.com/juanfonsecals1/tm_datos\n",
    "\n",
    "\n",
    "See the troncal_2024.csv file for Estacion_Parada, latitud, longitud, fecha, hora, Sistema, and validaciones which describes the number of people tapping in at each stop per hour\n",
    "\n",
    "See the more detailed dataset where there is one row per transaction, Starting with Acceso_estacion, Dispositivo, Numero Tarjeta which is the smartcard used to pay for the trip, the amount of money before and after the trip held on the card, \n",
    "\n",
    "On the website see Tu Transmi en mapas, scroll down to descargo a datos which has the ZAT GEN/ATR data, which I have started analysing in `1_explore-zat.ipynb`"
   ]
  }
 ],
 "metadata": {
  "language_info": {
   "name": "python"
  }
 },
 "nbformat": 4,
 "nbformat_minor": 2
}
